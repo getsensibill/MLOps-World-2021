{
 "cells": [
  {
   "cell_type": "markdown",
   "id": "challenging-morrison",
   "metadata": {},
   "source": [
    "# Call the SageMaker Endpoint"
   ]
  },
  {
   "cell_type": "code",
   "execution_count": 8,
   "id": "wrong-cattle",
   "metadata": {},
   "outputs": [],
   "source": [
    "import boto3\n",
    "import json\n",
    "sm = boto3.client('sagemaker-runtime', region_name='us-east-1')"
   ]
  },
  {
   "cell_type": "code",
   "execution_count": 9,
   "id": "bottom-adoption",
   "metadata": {},
   "outputs": [],
   "source": [
    "endpoint_name = 'mlops-mme-v1'"
   ]
  },
  {
   "cell_type": "code",
   "execution_count": 21,
   "id": "antique-material",
   "metadata": {},
   "outputs": [],
   "source": [
    "def call_endpoint(text, model_name, endpoint_name):\n",
    "    request = {\n",
    "        \"text\": text\n",
    "    }\n",
    "    response = sm.invoke_endpoint(\n",
    "        EndpointName=endpoint_name,\n",
    "        Body=json.dumps(request),\n",
    "        TargetModel=model_name,\n",
    "        Accept='application/json',\n",
    "        ContentType='application/json')\n",
    "    \n",
    "    return json.loads(response['Body'].read().decode('utf-8'))"
   ]
  },
  {
   "cell_type": "markdown",
   "id": "toxic-mercy",
   "metadata": {},
   "source": [
    "### Call MME with model 1"
   ]
  },
  {
   "cell_type": "code",
   "execution_count": 17,
   "id": "helpful-immunology",
   "metadata": {},
   "outputs": [
    {
     "data": {
      "text/plain": [
       "{'1-star': 0.6745474934577942,\n",
       " '2-star': 0.16354192793369293,\n",
       " '3-star': 0.07306314259767532,\n",
       " '4-star': 0.03066335991024971,\n",
       " '5-star': 0.05818412825465202}"
      ]
     },
     "execution_count": 17,
     "metadata": {},
     "output_type": "execute_result"
    }
   ],
   "source": [
    "call_endpoint(\"This is sick\", \"model-1.tar.gz\")"
   ]
  },
  {
   "cell_type": "markdown",
   "id": "handy-apple",
   "metadata": {},
   "source": [
    "### Call MME with model 2"
   ]
  },
  {
   "cell_type": "code",
   "execution_count": 20,
   "id": "worldwide-license",
   "metadata": {},
   "outputs": [
    {
     "data": {
      "text/plain": [
       "{'negative': 0.001286939950659871,\n",
       " 'neutral': 0.010825753211975098,\n",
       " 'positive': 0.9878872036933899}"
      ]
     },
     "execution_count": 20,
     "metadata": {},
     "output_type": "execute_result"
    }
   ],
   "source": [
    "call_endpoint(\"This is cool!\", \"model-2.tar.gz\")"
   ]
  },
  {
   "cell_type": "markdown",
   "id": "institutional-equality",
   "metadata": {},
   "source": [
    "## Try out TorchServe endpoint"
   ]
  },
  {
   "cell_type": "code",
   "execution_count": null,
   "id": "documentary-tours",
   "metadata": {},
   "outputs": [],
   "source": [
    "!aws s3 cp s3://mlops-mme-v1-deployment-bucket-validation/model-1.tar.gz s3://mlops-mme-torchserve-deployment-bucket-validation/model-1.tar.gz "
   ]
  },
  {
   "cell_type": "code",
   "execution_count": null,
   "id": "legendary-anthony",
   "metadata": {},
   "outputs": [],
   "source": [
    "call_endpoint(\"This is cool!\", \"model-1.tar.gz\", endpoint_name='mlops-mme-torchserve')"
   ]
  }
 ],
 "metadata": {
  "kernelspec": {
   "display_name": "Python 3",
   "language": "python",
   "name": "python3"
  },
  "language_info": {
   "codemirror_mode": {
    "name": "ipython",
    "version": 3
   },
   "file_extension": ".py",
   "mimetype": "text/x-python",
   "name": "python",
   "nbconvert_exporter": "python",
   "pygments_lexer": "ipython3",
   "version": "3.9.1"
  }
 },
 "nbformat": 4,
 "nbformat_minor": 5
}
