{
 "cells": [
  {
   "cell_type": "markdown",
   "id": "challenging-morrison",
   "metadata": {},
   "source": [
    "# Call the SageMaker Endpoint"
   ]
  },
  {
   "cell_type": "code",
   "execution_count": null,
   "id": "wrong-cattle",
   "metadata": {},
   "outputs": [],
   "source": [
    "import boto3\n",
    "import json\n",
    "sm = boto3.client('sagemaker-runtime', region_name='us-east-1')"
   ]
  },
  {
   "cell_type": "code",
   "execution_count": null,
   "id": "bottom-adoption",
   "metadata": {},
   "outputs": [],
   "source": [
    "endpoint_name = 'mlops-mme-v1'"
   ]
  },
  {
   "cell_type": "code",
   "execution_count": null,
   "id": "antique-material",
   "metadata": {},
   "outputs": [],
   "source": [
    "def call_endpoint(text, model_name, endpoint_name=endpoint_name):\n",
    "    request = {\n",
    "        \"text\": text\n",
    "    }\n",
    "    response = sm.invoke_endpoint(\n",
    "        EndpointName=endpoint_name,\n",
    "        Body=json.dumps(request),\n",
    "        TargetModel=model_name,\n",
    "        Accept='application/json',\n",
    "        ContentType='application/json')\n",
    "    \n",
    "    return json.loads(response['Body'].read().decode('utf-8'))"
   ]
  },
  {
   "cell_type": "markdown",
   "id": "toxic-mercy",
   "metadata": {},
   "source": [
    "### Call MME with model 1"
   ]
  },
  {
   "cell_type": "code",
   "execution_count": null,
   "id": "helpful-immunology",
   "metadata": {},
   "outputs": [],
   "source": [
    "call_endpoint(\"This is sick\", \"model-1.tar.gz\")"
   ]
  },
  {
   "cell_type": "markdown",
   "id": "handy-apple",
   "metadata": {},
   "source": [
    "### Call MME with model 2"
   ]
  },
  {
   "cell_type": "code",
   "execution_count": null,
   "id": "worldwide-license",
   "metadata": {},
   "outputs": [],
   "source": [
    "call_endpoint(\"This is cool!\", \"model-2.tar.gz\")"
   ]
  },
  {
   "cell_type": "markdown",
   "id": "institutional-equality",
   "metadata": {},
   "source": [
    "## Try out TorchServe endpoint"
   ]
  },
  {
   "cell_type": "code",
   "execution_count": null,
   "id": "documentary-tours",
   "metadata": {},
   "outputs": [],
   "source": [
    "!aws s3 cp s3://mlops-mme-v1-deployment-bucket-validation/model-1.tar.gz s3://mlops-mme-torchserve-deployment-bucket-validation/model-1.tar.gz "
   ]
  },
  {
   "cell_type": "code",
   "execution_count": null,
   "id": "legendary-anthony",
   "metadata": {},
   "outputs": [],
   "source": [
    "call_endpoint(\"This is cool!\", \"model-1.tar.gz\", endpoint_name='mlops-mme-torchserve')"
   ]
  },
  {
   "cell_type": "code",
   "execution_count": null,
   "id": "c51f7295-20a6-452c-a49b-e1655965f459",
   "metadata": {},
   "outputs": [],
   "source": [
    "call_endpoint(\"This is cool!\", \"model-1b.tar.gz\", endpoint_name='mlops-mme-torchserve')"
   ]
  },
  {
   "cell_type": "code",
   "execution_count": null,
   "id": "9d8bc4c2-e9ee-4bb5-8ca6-6f19462eebb3",
   "metadata": {},
   "outputs": [],
   "source": []
  }
 ],
 "metadata": {
  "kernelspec": {
   "display_name": "Python 3",
   "language": "python",
   "name": "python3"
  },
  "language_info": {
   "codemirror_mode": {
    "name": "ipython",
    "version": 3
   },
   "file_extension": ".py",
   "mimetype": "text/x-python",
   "name": "python",
   "nbconvert_exporter": "python",
   "pygments_lexer": "ipython3",
   "version": "3.9.5"
  }
 },
 "nbformat": 4,
 "nbformat_minor": 5
}
