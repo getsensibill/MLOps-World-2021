{
 "cells": [
  {
   "cell_type": "markdown",
   "id": "partial-brooklyn",
   "metadata": {},
   "source": [
    "# Download and Setup the First Model - Product Ratings by NLP Town"
   ]
  },
  {
   "cell_type": "markdown",
   "id": "chicken-colonial",
   "metadata": {},
   "source": [
    "### 1. Download Model"
   ]
  },
  {
   "cell_type": "code",
   "execution_count": null,
   "id": "equipped-benefit",
   "metadata": {},
   "outputs": [],
   "source": [
    "from transformers import AutoTokenizer, AutoModelForSequenceClassification"
   ]
  },
  {
   "cell_type": "code",
   "execution_count": null,
   "id": "architectural-optimum",
   "metadata": {},
   "outputs": [],
   "source": [
    "tokenizer = AutoTokenizer.from_pretrained(\"nlptown/bert-base-multilingual-uncased-sentiment\")\n",
    "model = AutoModelForSequenceClassification.from_pretrained(\"nlptown/bert-base-multilingual-uncased-sentiment\")"
   ]
  },
  {
   "cell_type": "markdown",
   "id": "incoming-shareware",
   "metadata": {},
   "source": [
    "### 2. Save Locally"
   ]
  },
  {
   "cell_type": "code",
   "execution_count": null,
   "id": "waiting-kelly",
   "metadata": {},
   "outputs": [],
   "source": [
    "from pathlib import Path"
   ]
  },
  {
   "cell_type": "code",
   "execution_count": null,
   "id": "exclusive-services",
   "metadata": {},
   "outputs": [],
   "source": [
    "import shutil"
   ]
  },
  {
   "cell_type": "code",
   "execution_count": null,
   "id": "champion-event",
   "metadata": {},
   "outputs": [],
   "source": [
    "cur_dir = Path.cwd()\n",
    "base_dir = cur_dir/'model-1'\n",
    "model_dir = base_dir/'model'\n",
    "code_dir = base_dir/'upload_code'"
   ]
  },
  {
   "cell_type": "code",
   "execution_count": null,
   "id": "armed-aviation",
   "metadata": {},
   "outputs": [],
   "source": [
    "shutil.rmtree(str(model_dir))"
   ]
  },
  {
   "cell_type": "code",
   "execution_count": null,
   "id": "mighty-depression",
   "metadata": {},
   "outputs": [],
   "source": [
    "tokenizer.save_pretrained(model_dir)"
   ]
  },
  {
   "cell_type": "code",
   "execution_count": null,
   "id": "coral-resolution",
   "metadata": {},
   "outputs": [],
   "source": [
    "model.save_pretrained(model_dir)"
   ]
  },
  {
   "cell_type": "markdown",
   "id": "handled-front",
   "metadata": {},
   "source": [
    "### 3. Copy inference code inside the model directory\n",
    "```\n",
    "model/\n",
    "|\n",
    "|- config.json\n",
    "|- pytorch_model.bin\n",
    "|- special_tokens_map.json\n",
    "|- tokenizer_config.json\n",
    "|- vocab.txt\n",
    "|- code/\n",
    "   |- inference.py\n",
    "```"
   ]
  },
  {
   "cell_type": "code",
   "execution_count": null,
   "id": "responsible-working",
   "metadata": {},
   "outputs": [],
   "source": [
    "shutil.copytree(code_dir, str(model_dir/'code'))"
   ]
  },
  {
   "cell_type": "markdown",
   "id": "chinese-winning",
   "metadata": {},
   "source": [
    "### 4. Install Dependencies\n",
    "This is to keep the model decoupled from others"
   ]
  },
  {
   "cell_type": "code",
   "execution_count": null,
   "id": "objective-hypothetical",
   "metadata": {},
   "outputs": [],
   "source": [
    "import subprocess\n",
    "import os"
   ]
  },
  {
   "cell_type": "code",
   "execution_count": null,
   "id": "becoming-theory",
   "metadata": {},
   "outputs": [],
   "source": [
    "my_env = os.environ.copy()\n",
    "my_env['PYENV_VERSION'] = '3.6.10'\n",
    "\n",
    "subprocess.check_call([\"pyenv\", \"exec\", \"python\", \"-m\", \"pip\", \"install\", \"--target\", str(model_dir/'code'), \"transformers==4.2.2\"], env=my_env)"
   ]
  },
  {
   "cell_type": "markdown",
   "id": "whole-riding",
   "metadata": {},
   "source": [
    "### 5. Package model into a tar"
   ]
  },
  {
   "cell_type": "code",
   "execution_count": null,
   "id": "compact-offset",
   "metadata": {},
   "outputs": [],
   "source": [
    "import tarfile"
   ]
  },
  {
   "cell_type": "code",
   "execution_count": null,
   "id": "streaming-traffic",
   "metadata": {},
   "outputs": [],
   "source": [
    "with tarfile.open(base_dir/'model.tar.gz', 'w:gz') as tar:\n",
    "    tar.add(model_dir, arcname='.')"
   ]
  },
  {
   "cell_type": "markdown",
   "id": "serial-yugoslavia",
   "metadata": {},
   "source": [
    "### 6. Upload model package to S3"
   ]
  },
  {
   "cell_type": "code",
   "execution_count": null,
   "id": "narrow-newark",
   "metadata": {},
   "outputs": [],
   "source": [
    "import boto3\n",
    "s3 = boto3.resource(\"s3\")"
   ]
  },
  {
   "cell_type": "code",
   "execution_count": null,
   "id": "nonprofit-portable",
   "metadata": {},
   "outputs": [],
   "source": [
    "s3_bucket = \"mlops-mme-v1-deployment-bucket-validation\""
   ]
  },
  {
   "cell_type": "code",
   "execution_count": null,
   "id": "approved-radar",
   "metadata": {},
   "outputs": [],
   "source": [
    "bucket = s3.Bucket(s3_bucket)\n",
    "bucket.upload_file(str(base_dir/'model.tar.gz'), 'model-1.tar.gz')"
   ]
  },
  {
   "cell_type": "code",
   "execution_count": null,
   "id": "right-assignment",
   "metadata": {},
   "outputs": [],
   "source": []
  }
 ],
 "metadata": {
  "kernelspec": {
   "display_name": "Python 3",
   "language": "python",
   "name": "python3"
  },
  "language_info": {
   "codemirror_mode": {
    "name": "ipython",
    "version": 3
   },
   "file_extension": ".py",
   "mimetype": "text/x-python",
   "name": "python",
   "nbconvert_exporter": "python",
   "pygments_lexer": "ipython3",
   "version": "3.9.1"
  }
 },
 "nbformat": 4,
 "nbformat_minor": 5
}
