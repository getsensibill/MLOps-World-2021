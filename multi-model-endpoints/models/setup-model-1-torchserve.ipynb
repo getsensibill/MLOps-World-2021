{
 "cells": [
  {
   "cell_type": "markdown",
   "id": "criminal-disclaimer",
   "metadata": {},
   "source": [
    "# Torchserve Setup for the First Model"
   ]
  },
  {
   "cell_type": "markdown",
   "id": "knowing-andrew",
   "metadata": {},
   "source": [
    "### 1. Download Model"
   ]
  },
  {
   "cell_type": "code",
   "execution_count": null,
   "id": "coupled-extension",
   "metadata": {},
   "outputs": [],
   "source": [
    "from transformers import AutoTokenizer, AutoModelForSequenceClassification"
   ]
  },
  {
   "cell_type": "code",
   "execution_count": null,
   "id": "lined-teaching",
   "metadata": {},
   "outputs": [],
   "source": [
    "tokenizer = AutoTokenizer.from_pretrained(\"nlptown/bert-base-multilingual-uncased-sentiment\")\n",
    "model = AutoModelForSequenceClassification.from_pretrained(\"nlptown/bert-base-multilingual-uncased-sentiment\")"
   ]
  },
  {
   "cell_type": "markdown",
   "id": "valued-amsterdam",
   "metadata": {},
   "source": [
    "### 2. Save Locally"
   ]
  },
  {
   "cell_type": "code",
   "execution_count": null,
   "id": "surrounded-validation",
   "metadata": {},
   "outputs": [],
   "source": [
    "from pathlib import Path"
   ]
  },
  {
   "cell_type": "code",
   "execution_count": null,
   "id": "radical-tablet",
   "metadata": {},
   "outputs": [],
   "source": [
    "import shutil"
   ]
  },
  {
   "cell_type": "code",
   "execution_count": null,
   "id": "appointed-prisoner",
   "metadata": {},
   "outputs": [],
   "source": [
    "cur_dir = Path.cwd()\n",
    "base_dir = cur_dir/'model-1'\n",
    "model_dir = base_dir/'model'\n",
    "code_dir = base_dir/'upload_code'"
   ]
  },
  {
   "cell_type": "code",
   "execution_count": null,
   "id": "accredited-blink",
   "metadata": {},
   "outputs": [],
   "source": [
    "shutil.rmtree(str(model_dir))"
   ]
  },
  {
   "cell_type": "code",
   "execution_count": null,
   "id": "arabic-rating",
   "metadata": {},
   "outputs": [],
   "source": [
    "tokenizer.save_pretrained(model_dir)"
   ]
  },
  {
   "cell_type": "code",
   "execution_count": null,
   "id": "surprising-cross",
   "metadata": {},
   "outputs": [],
   "source": [
    "model.save_pretrained(model_dir)"
   ]
  },
  {
   "cell_type": "markdown",
   "id": "tender-cabinet",
   "metadata": {},
   "source": [
    "### 3. Copy inference code inside the model directory\n",
    "```\n",
    "model/\n",
    "|\n",
    "|- config.json\n",
    "|- pytorch_model.bin\n",
    "|- special_tokens_map.json\n",
    "|- tokenizer_config.json\n",
    "|- vocab.txt\n",
    "|- code/\n",
    "   |- inference.py\n",
    "```"
   ]
  },
  {
   "cell_type": "code",
   "execution_count": null,
   "id": "african-medicine",
   "metadata": {},
   "outputs": [],
   "source": [
    "shutil.copytree(code_dir, str(model_dir/'code'))"
   ]
  },
  {
   "cell_type": "markdown",
   "id": "homeless-worship",
   "metadata": {},
   "source": [
    "### 4. Install Dependencies\n",
    "This is to keep the model decoupled from others"
   ]
  },
  {
   "cell_type": "code",
   "execution_count": null,
   "id": "responsible-gasoline",
   "metadata": {},
   "outputs": [],
   "source": [
    "import subprocess\n",
    "import os"
   ]
  },
  {
   "cell_type": "markdown",
   "id": "nominated-wound",
   "metadata": {},
   "source": [
    "Important! The python version used to install the dependencies must match the deployed image"
   ]
  },
  {
   "cell_type": "code",
   "execution_count": null,
   "id": "certified-return",
   "metadata": {},
   "outputs": [],
   "source": [
    "my_env = os.environ.copy()\n",
    "my_env['PYENV_VERSION'] = '3.6.10'\n",
    "\n",
    "subprocess.check_call([\"pyenv\", \"exec\", \"python\", \"-m\", \"pip\", \"install\", \"--target\", str(model_dir/'code'), \"transformers==4.2.2\"], env=my_env)"
   ]
  },
  {
   "cell_type": "markdown",
   "id": "1e4bcc9d-90b6-4eea-965b-12e87d7b9209",
   "metadata": {},
   "source": [
    "### 5. Add Manifest File"
   ]
  },
  {
   "cell_type": "code",
   "execution_count": null,
   "id": "experimental-bathroom",
   "metadata": {},
   "outputs": [],
   "source": [
    "subprocess.check_call([\n",
    "    \"torch-model-archiver\", \"--model-name\", \"model\", \n",
    "    \"--handler\", \"torchserve/handler_service.py\",\n",
    "    \"--export-path\", \"model-1\",\n",
    "    \"--version\", \"1\",\n",
    "    \"--archive-format\", \"no-archive\",\n",
    "    \"-f\"\n",
    "])"
   ]
  },
  {
   "cell_type": "markdown",
   "id": "ethical-works",
   "metadata": {},
   "source": [
    "### 6. Package model into a tar"
   ]
  },
  {
   "cell_type": "code",
   "execution_count": null,
   "id": "unavailable-mexico",
   "metadata": {},
   "outputs": [],
   "source": [
    "import tarfile"
   ]
  },
  {
   "cell_type": "code",
   "execution_count": null,
   "id": "obvious-snapshot",
   "metadata": {},
   "outputs": [],
   "source": [
    "with tarfile.open(base_dir/'model.tar.gz', 'w:gz') as tar:\n",
    "    tar.add(model_dir, arcname='.')"
   ]
  },
  {
   "cell_type": "markdown",
   "id": "healthy-entry",
   "metadata": {},
   "source": [
    "### 7. Upload model package to S3"
   ]
  },
  {
   "cell_type": "code",
   "execution_count": null,
   "id": "apart-arrest",
   "metadata": {},
   "outputs": [],
   "source": [
    "import boto3\n",
    "s3 = boto3.resource(\"s3\")"
   ]
  },
  {
   "cell_type": "code",
   "execution_count": null,
   "id": "eligible-enforcement",
   "metadata": {},
   "outputs": [],
   "source": [
    "s3_bucket = \"mlops-mme-torchserve-deployment-bucket-validation\""
   ]
  },
  {
   "cell_type": "code",
   "execution_count": null,
   "id": "recreational-benchmark",
   "metadata": {},
   "outputs": [],
   "source": [
    "bucket = s3.Bucket(s3_bucket)\n",
    "bucket.upload_file(str(base_dir/'model.tar.gz'), 'model-1b.tar.gz')"
   ]
  },
  {
   "cell_type": "code",
   "execution_count": null,
   "id": "chief-oklahoma",
   "metadata": {},
   "outputs": [],
   "source": []
  }
 ],
 "metadata": {
  "kernelspec": {
   "display_name": "Python 3",
   "language": "python",
   "name": "python3"
  },
  "language_info": {
   "codemirror_mode": {
    "name": "ipython",
    "version": 3
   },
   "file_extension": ".py",
   "mimetype": "text/x-python",
   "name": "python",
   "nbconvert_exporter": "python",
   "pygments_lexer": "ipython3",
   "version": "3.9.5"
  }
 },
 "nbformat": 4,
 "nbformat_minor": 5
}
