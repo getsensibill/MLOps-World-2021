{
 "cells": [
  {
   "cell_type": "markdown",
   "id": "distinguished-geography",
   "metadata": {},
   "source": [
    "# SageMaker Ground Truth Labeling Jobs with Step Functions"
   ]
  },
  {
   "cell_type": "markdown",
   "id": "brief-trigger",
   "metadata": {},
   "source": [
    "Pre-requisites:\n",
    "\n",
    "AWS CLI:\n",
    "```\n",
    "curl \"https://awscli.amazonaws.com/awscli-exe-linux-x86_64.zip\" -o \"awscliv2.zip\"\n",
    "unzip awscliv2.zip\n",
    "sudo ./aws/install\n",
    "```\n",
    "SageMaker: `pip install sagemaker`\n",
    "\n",
    "Step Functions: `pip install stepfunctions`"
   ]
  },
  {
   "cell_type": "markdown",
   "id": "integral-adoption",
   "metadata": {},
   "source": [
    "Set Region"
   ]
  },
  {
   "cell_type": "code",
   "execution_count": null,
   "id": "linear-disposition",
   "metadata": {},
   "outputs": [],
   "source": [
    "! aws configure set default.region us-east-1"
   ]
  },
  {
   "cell_type": "markdown",
   "id": "biblical-activation",
   "metadata": {},
   "source": [
    "## Guides and Tutorials\n",
    "* SageMaker Ground Truth [AWS Guide](https://docs.aws.amazon.com/sagemaker/latest/dg/sms.html)\n",
    "* Step Functions [Introduction](https://docs.aws.amazon.com/step-functions/latest/dg/welcome.html)\n",
    "* Labeling Jobs Step Functions [Reference](https://docs.aws.amazon.com/sagemaker/latest/APIReference/API_CreateLabelingJob.html)\n",
    "* Amazon States Language [Guide](https://docs.aws.amazon.com/step-functions/latest/dg/concepts-amazon-states-language.html)\n",
    "* AWS Step Functions [Data Science SDK](https://aws-step-functions-data-science-sdk.readthedocs.io/en/stable/)"
   ]
  },
  {
   "cell_type": "markdown",
   "id": "posted-fashion",
   "metadata": {},
   "source": [
    "## Labeling Jobs"
   ]
  },
  {
   "cell_type": "markdown",
   "id": "amino-transfer",
   "metadata": {},
   "source": [
    "### Main inputs needed for a Labeling Job:\n",
    "* `LabelingJobName`: Job name, only alphanumeric + hyphens allowed\n",
    "* `LabelAttributeName`: Name of label in the output JSON, prefer using the job name\n",
    "* `ManifestS3Uri`: S3 Uri holding the input manifest\n",
    "* `S3OutputPath`: S3 Uri that will hold the output annotation\n",
    "* `RoleArn`: IAM Role for permissions\n",
    "* `LabelCategoryConfigS3Uri`: S3 Uri holding a label category file\n",
    "* `WorkteamArn`: ARN (identifier) of the team that will do the annotations\n",
    "* `UiTemplateS3Uri`: S3 Uri holding a HTML file that configures the UI\n",
    "* `PreHumanTaskLambdaArn`: ARN of preprocessing lambda\n",
    "* `AnnotationConsolidationLambdaArn`: ARN of post-processing lambda\n",
    "* `TaskTitle`: Title shown on the labels dashboard\n",
    "* `TaskTimeLimitInSeconds`: How long before a task is put back in the queue\n",
    "* `TaskAvailabilityLifetimeInSeconds`: Time after which a task is not longer available\n",
    "\n",
    "More details in the `boto3` SDK [documentation](https://boto3.amazonaws.com/v1/documentation/api/latest/reference/services/sagemaker.html#SageMaker.Client.create_labeling_job)"
   ]
  },
  {
   "cell_type": "markdown",
   "id": "entertaining-brighton",
   "metadata": {},
   "source": [
    "### Setup\n",
    "* Create IAM Role\n",
    "* Create S3 bucket\n",
    "* Create workforce\n",
    "* Setup Lambda functions"
   ]
  },
  {
   "cell_type": "markdown",
   "id": "tested-dietary",
   "metadata": {},
   "source": [
    "### Copy the data to S3\n",
    "`data/<id>` stores each datapoint. Ideally the id should be a hash"
   ]
  },
  {
   "cell_type": "code",
   "execution_count": null,
   "id": "5c2f38ba-6a33-4bc4-b51f-723e9334927e",
   "metadata": {},
   "outputs": [],
   "source": [
    "import os"
   ]
  },
  {
   "cell_type": "code",
   "execution_count": null,
   "id": "limited-preservation",
   "metadata": {},
   "outputs": [],
   "source": [
    "s3_bucket = os.getenv('LABELING_S3_BUCKET')\n",
    "print(s3_bucket)"
   ]
  },
  {
   "cell_type": "markdown",
   "id": "downtown-acquisition",
   "metadata": {},
   "source": [
    "<font color=\"red\">IMPORTANT!! Setup CORS for the S3 bucket else the labeling will fail!</font>\n",
    "```\n",
    "[\n",
    "    {\n",
    "        \"AllowedHeaders\": [],\n",
    "        \"AllowedMethods\": [\n",
    "            \"GET\"\n",
    "        ],\n",
    "        \"AllowedOrigins\": [\n",
    "            \"*\"\n",
    "        ],\n",
    "        \"ExposeHeaders\": []\n",
    "    }\n",
    "]\n",
    "```"
   ]
  },
  {
   "cell_type": "code",
   "execution_count": null,
   "id": "homeless-clause",
   "metadata": {},
   "outputs": [],
   "source": [
    "!aws s3 cp data/image-1.jpeg s3://{s3_bucket}/labeling/data/1/image.jpeg"
   ]
  },
  {
   "cell_type": "code",
   "execution_count": null,
   "id": "beginning-innocent",
   "metadata": {},
   "outputs": [],
   "source": [
    "!aws s3 cp data/image-2.jpeg s3://{s3_bucket}/labeling/data/2/image.jpeg"
   ]
  },
  {
   "cell_type": "markdown",
   "id": "nonprofit-grammar",
   "metadata": {},
   "source": [
    "### Copy the configuration files to S3"
   ]
  },
  {
   "cell_type": "markdown",
   "id": "dutch-lexington",
   "metadata": {},
   "source": [
    "Input manifest"
   ]
  },
  {
   "cell_type": "code",
   "execution_count": null,
   "id": "3a1a9f05-83bb-4490-8231-00069a86c1ae",
   "metadata": {},
   "outputs": [],
   "source": [
    "!echo {\\\"source-ref\\\": \\\"s3://$LABELING_S3_BUCKET/labeling/data/1/image.jpeg\\\", \\\"id\\\": \\\"1\\\"} > config/dataset-1.manifest\n",
    "!echo {\\\"source-ref\\\": \\\"s3://$LABELING_S3_BUCKET/labeling/data/2/image.jpeg\\\", \\\"id\\\": \\\"2\\\"} >> config/dataset-1.manifest"
   ]
  },
  {
   "cell_type": "code",
   "execution_count": null,
   "id": "differential-cambridge",
   "metadata": {},
   "outputs": [],
   "source": [
    "!aws s3 cp config/dataset-1.manifest s3://{s3_bucket}/labeling/manifests/"
   ]
  },
  {
   "cell_type": "markdown",
   "id": "superb-variance",
   "metadata": {},
   "source": [
    "Label category file"
   ]
  },
  {
   "cell_type": "code",
   "execution_count": null,
   "id": "thrown-pressure",
   "metadata": {},
   "outputs": [],
   "source": [
    "!aws s3 cp config/label-category-merchantName.json s3://{s3_bucket}/labeling/config/"
   ]
  },
  {
   "cell_type": "markdown",
   "id": "fifth-justice",
   "metadata": {},
   "source": [
    "UI Template"
   ]
  },
  {
   "cell_type": "code",
   "execution_count": null,
   "id": "popular-hacker",
   "metadata": {},
   "outputs": [],
   "source": [
    "!aws s3 cp config/bbox-default.html s3://{s3_bucket}/labeling/config/"
   ]
  },
  {
   "cell_type": "markdown",
   "id": "clean-packing",
   "metadata": {},
   "source": [
    "## Step Functions"
   ]
  },
  {
   "cell_type": "markdown",
   "id": "alive-carter",
   "metadata": {},
   "source": [
    "### Define the Labeling Job (Bounding Box) Step Function"
   ]
  },
  {
   "cell_type": "code",
   "execution_count": null,
   "id": "dimensional-wagner",
   "metadata": {},
   "outputs": [],
   "source": [
    "from stepfunctions.steps import *\n",
    "from stepfunctions.workflow import Workflow\n",
    "from stepfunctions.steps.fields import Field\n",
    "\n",
    "import boto3\n",
    "import json\n",
    "import datetime\n",
    "import os\n",
    "\n",
    "from IPython.display import JSON"
   ]
  },
  {
   "cell_type": "code",
   "execution_count": null,
   "id": "small-termination",
   "metadata": {},
   "outputs": [],
   "source": [
    "account = os.getenv('AWS_ACCOUNT')\n",
    "print(account)"
   ]
  },
  {
   "cell_type": "code",
   "execution_count": null,
   "id": "accessible-blair",
   "metadata": {},
   "outputs": [],
   "source": [
    "workflow_execution_role = f'arn:aws:iam::{account}:role/MLOps2021Role'"
   ]
  },
  {
   "cell_type": "code",
   "execution_count": null,
   "id": "abandoned-blackberry",
   "metadata": {},
   "outputs": [],
   "source": [
    "class BBoxLabelingJobStep(Task):\n",
    "    def __init__(self, **kwargs):\n",
    "        \n",
    "        \n",
    "        parameters = {\n",
    "            'LabelingJobName.$': '$$.Execution.Input.labelingJobName',\n",
    "            'LabelAttributeName.$': '$$.Execution.Input.labelingJobName',\n",
    "            'InputConfig':{\n",
    "                'DataSource': {\n",
    "                    'S3DataSource': {\n",
    "                        'ManifestS3Uri.$': '$$.Execution.Input.inputManifest'\n",
    "                    }\n",
    "                },\n",
    "                'DataAttributes': {\n",
    "                    'ContentClassifiers': [\n",
    "                        'FreeOfPersonallyIdentifiableInformation', 'FreeOfAdultContent',\n",
    "                    ]\n",
    "                }\n",
    "            },\n",
    "            'OutputConfig':{\n",
    "                'S3OutputPath.$': '$$.Execution.Input.outputPath'\n",
    "            },\n",
    "            'RoleArn': workflow_execution_role,\n",
    "            'LabelCategoryConfigS3Uri.$': '$$.Execution.Input.labelCategoriesUri',\n",
    "            'HumanTaskConfig': {\n",
    "                'WorkteamArn': f'arn:aws:sagemaker:us-east-1:{account}:workteam/private-crowd/mlops',\n",
    "                'UiConfig': {\n",
    "                    'UiTemplateS3Uri.$': '$$.Execution.Input.uiTemplateFile'\n",
    "                },\n",
    "                'PreHumanTaskLambdaArn': 'arn:aws:lambda:us-east-1:432418664414:function:PRE-BoundingBox',\n",
    "                'TaskKeywords': [\n",
    "                    'Bounding Box',\n",
    "                ],\n",
    "                'TaskTitle.$': '$$.Execution.Input.labelingJobTitle',\n",
    "                'TaskDescription.$': '$$.Execution.Input.labelingJobDescription',\n",
    "                'NumberOfHumanWorkersPerDataObject': 1,\n",
    "                'TaskTimeLimitInSeconds': 3600,\n",
    "                'TaskAvailabilityLifetimeInSeconds': 3600*24*10,\n",
    "                'AnnotationConsolidationConfig': {\n",
    "                    'AnnotationConsolidationLambdaArn': 'arn:aws:lambda:us-east-1:432418664414:function:ACS-BoundingBox'\n",
    "                }\n",
    "            }\n",
    "        }\n",
    "        \n",
    "        kwargs[Field.Resource.value] = 'arn:aws:states:::sagemaker:createLabelingJob.sync'\n",
    "        kwargs[Field.Parameters.value] = parameters\n",
    "\n",
    "        super(BBoxLabelingJobStep, self).__init__('Bounding Box Labels', **kwargs)\n",
    "        "
   ]
  },
  {
   "cell_type": "markdown",
   "id": "chronic-switch",
   "metadata": {},
   "source": [
    "Function that creates the labeling job step and adds a catch step"
   ]
  },
  {
   "cell_type": "code",
   "execution_count": null,
   "id": "recovered-computer",
   "metadata": {},
   "outputs": [],
   "source": [
    "def create_labeling_job_step(error_step):\n",
    "    labeling_job = BBoxLabelingJobStep()\n",
    "    labeling_job.add_catch(Catch(\n",
    "        error_equals=[\"States.TaskFailed\"],\n",
    "        next_step=error_step\n",
    "    ))\n",
    "    \n",
    "    return labeling_job"
   ]
  },
  {
   "cell_type": "markdown",
   "id": "reasonable-causing",
   "metadata": {},
   "source": [
    "### Define the function to create the post labeling lambda step<br> \n",
    "(Note this lambda needs to deployed already)"
   ]
  },
  {
   "cell_type": "code",
   "execution_count": null,
   "id": "intended-rider",
   "metadata": {},
   "outputs": [],
   "source": [
    "def create_postlabeling_lambda_step(error_step):\n",
    "    lambda_state = LambdaStep(\n",
    "        state_id=\"Convert SagemakerGT labels\",\n",
    "        parameters={  \n",
    "            \"FunctionName\": \"mlopsPostLabelingJobProcess\",\n",
    "            \"Payload.$\": \"$$.Execution.Input\"\n",
    "        }\n",
    "    )\n",
    "\n",
    "    lambda_state.add_retry(Retry(\n",
    "        error_equals=[\"States.TaskFailed\"],\n",
    "        interval_seconds=15,\n",
    "        max_attempts=2,\n",
    "        backoff_rate=4.0\n",
    "    ))\n",
    "\n",
    "    lambda_state.add_catch(Catch(\n",
    "        error_equals=[\"States.TaskFailed\"],\n",
    "        next_step=error_step\n",
    "    ))\n",
    "    \n",
    "    return lambda_state"
   ]
  },
  {
   "cell_type": "markdown",
   "id": "spanish-review",
   "metadata": {},
   "source": [
    "### Next, define the function to create the error notification Lambda step <br>\n",
    "(Again this Lambda function must be deployed already)"
   ]
  },
  {
   "cell_type": "code",
   "execution_count": null,
   "id": "black-barrel",
   "metadata": {},
   "outputs": [],
   "source": [
    "def create_error_lambda_step():\n",
    "    lambda_state = LambdaStep(\n",
    "        state_id=\"Notify Errors\",\n",
    "        parameters={  \n",
    "            \"FunctionName\": \"mlopsNotifyErrors\",\n",
    "            \"Payload\": {\n",
    "                \"Error.$\": \"$.Error\",\n",
    "                \"Source\": \"Labeling Workflow\",\n",
    "                \"Cause.$\": \"$.Cause\"\n",
    "            }\n",
    "        }\n",
    "    )\n",
    "    \n",
    "    return Chain([lambda_state, Fail(\"Labeling Job Failed\")])"
   ]
  },
  {
   "cell_type": "markdown",
   "id": "demanding-courage",
   "metadata": {},
   "source": [
    "### Finally a function to put it all together"
   ]
  },
  {
   "cell_type": "code",
   "execution_count": null,
   "id": "homeless-occupation",
   "metadata": {},
   "outputs": [],
   "source": [
    "def make_labeling_path():\n",
    "    error_step = create_error_lambda_step()\n",
    "    labeling_job = create_labeling_job_step(error_step)\n",
    "    post_labeling_lambda = create_postlabeling_lambda_step(error_step)\n",
    "    \n",
    "    return Chain([labeling_job, post_labeling_lambda])\n",
    "    \n",
    "def make_bbox_workflow(workflow_name):    \n",
    "    return Workflow(\n",
    "        name=workflow_name,\n",
    "        definition=make_labeling_path(),\n",
    "        role=workflow_execution_role\n",
    "    )"
   ]
  },
  {
   "cell_type": "markdown",
   "id": "stuffed-fleet",
   "metadata": {},
   "source": [
    "This is essentially a JSON"
   ]
  },
  {
   "cell_type": "code",
   "execution_count": null,
   "id": "minimal-glasgow",
   "metadata": {},
   "outputs": [],
   "source": [
    "workflow = make_bbox_workflow('MLOpsBBoxLabeling')\n",
    "JSON(json.loads(workflow.definition.to_json()))"
   ]
  },
  {
   "cell_type": "markdown",
   "id": "psychological-christopher",
   "metadata": {},
   "source": [
    "### Define the inputs for the Workflow"
   ]
  },
  {
   "cell_type": "code",
   "execution_count": null,
   "id": "representative-drinking",
   "metadata": {},
   "outputs": [],
   "source": [
    "def get_workflow_inputs(dataset_name, field_name, labeling_job_name):\n",
    "    timestamp = datetime.datetime.now().strftime(\"%Y%m%d%H%M%S\")\n",
    "    \n",
    "    return {\n",
    "        'labelingJobName': f'{labeling_job_name}-{field_name}-{timestamp}', \n",
    "        'fieldName': field_name,\n",
    "        'labelCategoriesUri': f's3://{s3_bucket}/labeling/config/label-category-{field_name}.json',\n",
    "        'inputManifest': f's3://{s3_bucket}/labeling/manifests/{dataset_name}.manifest',\n",
    "        'outputPath': f's3://{s3_bucket}/labeling/output',\n",
    "        'uiTemplateFile': f's3://{s3_bucket}/labeling/config/bbox-default.html',\n",
    "        'labelingJobTitle': f'Bounding Box: {labeling_job_name}-{field_name}',\n",
    "        'labelingJobDescription': f'Draw bounding boxes around {field_name} - {labeling_job_name}'\n",
    "    }"
   ]
  },
  {
   "cell_type": "markdown",
   "id": "legal-publication",
   "metadata": {},
   "source": [
    "## Running the Workflow"
   ]
  },
  {
   "cell_type": "markdown",
   "id": "sixth-rogers",
   "metadata": {},
   "source": [
    "### Create the workflow"
   ]
  },
  {
   "cell_type": "code",
   "execution_count": null,
   "id": "miniature-merit",
   "metadata": {},
   "outputs": [],
   "source": [
    "workflow = make_bbox_workflow('MLOpsBBoxLabeling')\n",
    "workflow.create()"
   ]
  },
  {
   "cell_type": "markdown",
   "id": "proprietary-journey",
   "metadata": {},
   "source": [
    "### Execute the workflow"
   ]
  },
  {
   "cell_type": "code",
   "execution_count": null,
   "id": "greek-baghdad",
   "metadata": {},
   "outputs": [],
   "source": [
    "workflow.execute(inputs=get_workflow_inputs('dataset-1', 'merchantName', 'mlops1'))"
   ]
  },
  {
   "cell_type": "markdown",
   "id": "enormous-style",
   "metadata": {},
   "source": [
    "Updating the workflow"
   ]
  },
  {
   "cell_type": "code",
   "execution_count": null,
   "id": "refined-debate",
   "metadata": {},
   "outputs": [],
   "source": [
    "workflow.update(definition=make_labeling_path())"
   ]
  }
 ],
 "metadata": {
  "kernelspec": {
   "display_name": "Python 3",
   "language": "python",
   "name": "python3"
  },
  "language_info": {
   "codemirror_mode": {
    "name": "ipython",
    "version": 3
   },
   "file_extension": ".py",
   "mimetype": "text/x-python",
   "name": "python",
   "nbconvert_exporter": "python",
   "pygments_lexer": "ipython3",
   "version": "3.9.5"
  }
 },
 "nbformat": 4,
 "nbformat_minor": 5
}
