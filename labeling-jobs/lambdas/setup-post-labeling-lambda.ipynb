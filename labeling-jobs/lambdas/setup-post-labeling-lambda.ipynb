{
 "cells": [
  {
   "cell_type": "code",
   "execution_count": null,
   "id": "respected-noise",
   "metadata": {},
   "outputs": [],
   "source": [
    "from pathlib import Path\n",
    "import os"
   ]
  },
  {
   "cell_type": "code",
   "execution_count": null,
   "id": "amino-worthy",
   "metadata": {},
   "outputs": [],
   "source": [
    "code_dir = Path(os.getcwd())\n",
    "build_dir = code_dir/'build'\n",
    "package_dir = build_dir/'package'"
   ]
  },
  {
   "cell_type": "markdown",
   "id": "prepared-match",
   "metadata": {},
   "source": [
    "### Clear Build directory"
   ]
  },
  {
   "cell_type": "code",
   "execution_count": null,
   "id": "pending-editing",
   "metadata": {},
   "outputs": [],
   "source": [
    "! rm -rf {build_dir}"
   ]
  },
  {
   "cell_type": "markdown",
   "id": "human-radical",
   "metadata": {},
   "source": [
    "### Copy source code"
   ]
  },
  {
   "cell_type": "code",
   "execution_count": null,
   "id": "tired-covering",
   "metadata": {},
   "outputs": [],
   "source": [
    "! mkdir -p {package_dir}\n",
    "! cp {code_dir/'post_label.py'} {package_dir/'lambda_function.py'}"
   ]
  },
  {
   "cell_type": "markdown",
   "id": "respected-silver",
   "metadata": {},
   "source": [
    "### Install packages"
   ]
  },
  {
   "cell_type": "code",
   "execution_count": null,
   "id": "silent-persian",
   "metadata": {},
   "outputs": [],
   "source": [
    "! pip install --target {package_dir} pydash"
   ]
  },
  {
   "cell_type": "markdown",
   "id": "cheap-emergency",
   "metadata": {},
   "source": [
    "### Zip into a bundle"
   ]
  },
  {
   "cell_type": "code",
   "execution_count": null,
   "id": "reliable-apparatus",
   "metadata": {
    "scrolled": true
   },
   "outputs": [],
   "source": [
    "%cd {package_dir}\n",
    "! zip -r ../lambda-package.zip ."
   ]
  },
  {
   "cell_type": "markdown",
   "id": "linear-rover",
   "metadata": {},
   "source": [
    "### Create the Lambda Function"
   ]
  },
  {
   "cell_type": "code",
   "execution_count": null,
   "id": "offshore-champagne",
   "metadata": {},
   "outputs": [],
   "source": [
    "%cd {code_dir}\n",
    "! aws lambda create-function \\\n",
    "    --function-name mlopsPostLabelingJobProcess \\\n",
    "    --runtime python3.8 \\\n",
    "    --zip-file fileb://build/lambda-package.zip \\\n",
    "    --handler lambda_function.handler \\\n",
    "    --role \"arn:aws:iam::$AWS_ACCOUNT:role/MLOps2021Role\""
   ]
  },
  {
   "cell_type": "markdown",
   "id": "christian-tenant",
   "metadata": {},
   "source": [
    "### Update the Lambda Function"
   ]
  },
  {
   "cell_type": "code",
   "execution_count": null,
   "id": "coordinated-annotation",
   "metadata": {},
   "outputs": [],
   "source": [
    "%cd {code_dir}\n",
    "! aws lambda update-function-code --function-name mlopsPostLabelingJobProcess --zip-file fileb://{build_dir/'lambda-package.zip'}"
   ]
  },
  {
   "cell_type": "code",
   "execution_count": null,
   "id": "every-interview",
   "metadata": {},
   "outputs": [],
   "source": []
  }
 ],
 "metadata": {
  "kernelspec": {
   "display_name": "Python 3",
   "language": "python",
   "name": "python3"
  },
  "language_info": {
   "codemirror_mode": {
    "name": "ipython",
    "version": 3
   },
   "file_extension": ".py",
   "mimetype": "text/x-python",
   "name": "python",
   "nbconvert_exporter": "python",
   "pygments_lexer": "ipython3",
   "version": "3.9.1"
  }
 },
 "nbformat": 4,
 "nbformat_minor": 5
}
